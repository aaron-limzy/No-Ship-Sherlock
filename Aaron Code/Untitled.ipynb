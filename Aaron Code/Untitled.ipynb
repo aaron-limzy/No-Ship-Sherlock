{
 "cells": [
  {
   "cell_type": "code",
   "execution_count": 1,
   "metadata": {},
   "outputs": [],
   "source": [
    "#jupyter notebook --NotebookApp.iopub_data_rate_limit=1.0e10\n",
    "import pandas as pd\n",
    "import numpy as np\n",
    "import datetime\n",
    "\n",
    "import matplotlib\n",
    "import cufflinks as cf\n",
    "import plotly\n",
    "import plotly.offline as py\n",
    "import plotly.graph_objs as go\n",
    "import plotly.express as px\n",
    "\n",
    "\n",
    "import os\n",
    "#pip install chart_studio\n",
    "\n",
    "pd.set_option('display.max_columns', None)\n",
    "#pd.options.plotting.backend = \"plotly\""
   ]
  },
  {
   "cell_type": "code",
   "execution_count": 14,
   "metadata": {},
   "outputs": [],
   "source": [
    "# The path on the computer where the data is being stored. \n",
    "full_path = r\"D:\\Google Drive\\Masters\\Sem 3\\EBAC No Ship, Sherlock\\Capstone\\raw data\"\n",
    "\n",
    "# The excel name\n",
    "excel_route_file = \"APJ Route TAT Master File V20210129.xlsx\"\n",
    "\n",
    "monthly_file_path = full_path + \"\\\\monthly\"\n",
    "\n",
    "from Shared_Lib import *"
   ]
  },
  {
   "cell_type": "markdown",
   "metadata": {},
   "source": [
    "# Get Masterdata of shipment routes"
   ]
  },
  {
   "cell_type": "code",
   "execution_count": 3,
   "metadata": {},
   "outputs": [
    {
     "name": "stdout",
     "output_type": "stream",
     "text": [
      "Length of Excel: 11958\n",
      "The count of mode by air: 0\n"
     ]
    }
   ],
   "source": [
    "df_ship_routes = get_shipment_routes(full_path + \"\\\\\" + excel_route_file)"
   ]
  },
  {
   "cell_type": "code",
   "execution_count": 4,
   "metadata": {},
   "outputs": [
    {
     "data": {
      "text/plain": [
       "11958"
      ]
     },
     "execution_count": 4,
     "metadata": {},
     "output_type": "execute_result"
    }
   ],
   "source": [
    "len(df_ship_routes)"
   ]
  },
  {
   "cell_type": "markdown",
   "metadata": {},
   "source": [
    "# Individual Shipment Data"
   ]
  },
  {
   "cell_type": "code",
   "execution_count": 6,
   "metadata": {},
   "outputs": [
    {
     "name": "stderr",
     "output_type": "stream",
     "text": [
      "c:\\users\\risk\\appdata\\local\\programs\\python\\python36\\lib\\site-packages\\IPython\\core\\interactiveshell.py:3343: DtypeWarning:\n",
      "\n",
      "Columns (21,22,23,24) have mixed types.Specify dtype option on import or set low_memory=False.\n",
      "\n"
     ]
    },
    {
     "name": "stdout",
     "output_type": "stream",
     "text": [
      "Excel File Name: D:\\Google Drive\\Masters\\Sem 3\\EBAC No Ship, Sherlock\\Capstone\\raw data\\monthly\\SearchResult_1615300381378_Jan21.csv | File shape is: (164584, 33)\n",
      "Excel File Name: D:\\Google Drive\\Masters\\Sem 3\\EBAC No Ship, Sherlock\\Capstone\\raw data\\monthly\\SearchResult_1615301179189_Dec20.csv | File shape is: (148071, 33)\n"
     ]
    },
    {
     "name": "stderr",
     "output_type": "stream",
     "text": [
      "c:\\users\\risk\\appdata\\local\\programs\\python\\python36\\lib\\site-packages\\IPython\\core\\interactiveshell.py:3343: DtypeWarning:\n",
      "\n",
      "Columns (21,23) have mixed types.Specify dtype option on import or set low_memory=False.\n",
      "\n"
     ]
    },
    {
     "name": "stdout",
     "output_type": "stream",
     "text": [
      "Excel File Name: D:\\Google Drive\\Masters\\Sem 3\\EBAC No Ship, Sherlock\\Capstone\\raw data\\monthly\\SearchResult_1615301591520_Nov20.csv | File shape is: (105069, 33)\n",
      "Excel File Name: D:\\Google Drive\\Masters\\Sem 3\\EBAC No Ship, Sherlock\\Capstone\\raw data\\monthly\\SearchResult_1615301861292_Oct20.csv | File shape is: (124359, 33)\n",
      "Excel File Name: D:\\Google Drive\\Masters\\Sem 3\\EBAC No Ship, Sherlock\\Capstone\\raw data\\monthly\\SearchResult_1615302057067_Sep20.csv | File shape is: (600000, 33)\n",
      "Excel File Name: D:\\Google Drive\\Masters\\Sem 3\\EBAC No Ship, Sherlock\\Capstone\\raw data\\monthly\\SearchResult_1615302586308_Aug20.csv | File shape is: (600000, 33)\n",
      "Excel File Name: D:\\Google Drive\\Masters\\Sem 3\\EBAC No Ship, Sherlock\\Capstone\\raw data\\monthly\\SearchResult_1615302848713_Jul20.csv | File shape is: (600000, 33)\n",
      "Excel File Name: D:\\Google Drive\\Masters\\Sem 3\\EBAC No Ship, Sherlock\\Capstone\\raw data\\monthly\\SearchResult_1615303098163_Jun20.csv | File shape is: (119388, 33)\n",
      "Excel File Name: D:\\Google Drive\\Masters\\Sem 3\\EBAC No Ship, Sherlock\\Capstone\\raw data\\monthly\\SearchResult_1615303294492_May20.csv | File shape is: (600000, 33)\n",
      "Excel File Name: D:\\Google Drive\\Masters\\Sem 3\\EBAC No Ship, Sherlock\\Capstone\\raw data\\monthly\\SearchResult_1615303594160_Apr20.csv | File shape is: (600000, 33)\n",
      "Excel File Name: D:\\Google Drive\\Masters\\Sem 3\\EBAC No Ship, Sherlock\\Capstone\\raw data\\monthly\\SearchResult_1615303885072_Mar20.csv | File shape is: (276524, 33)\n",
      "Excel File Name: D:\\Google Drive\\Masters\\Sem 3\\EBAC No Ship, Sherlock\\Capstone\\raw data\\monthly\\SearchResult_1615304080226_Feb20.csv | File shape is: (105049, 33)\n"
     ]
    }
   ],
   "source": [
    "file_names = [monthly_file_path + \"\\\\\" + f for f in os.listdir(monthly_file_path) if f.find(\"SearchResult\")>=0]\n",
    "# To read all the excel sheets. \n",
    "df_unique_shipment_all=pd.concat([get_shipment_data(f) for f in file_names])"
   ]
  },
  {
   "cell_type": "markdown",
   "metadata": {},
   "source": [
    "# Data Cleaning / Exploratory "
   ]
  },
  {
   "cell_type": "code",
   "execution_count": 7,
   "metadata": {},
   "outputs": [],
   "source": [
    "df_unique_shipment = df_unique_shipment_all.copy()"
   ]
  },
  {
   "cell_type": "code",
   "execution_count": 8,
   "metadata": {},
   "outputs": [
    {
     "data": {
      "text/plain": [
       "(4043044, 33)"
      ]
     },
     "execution_count": 8,
     "metadata": {},
     "output_type": "execute_result"
    }
   ],
   "source": [
    "df_unique_shipment_all.shape"
   ]
  },
  {
   "cell_type": "code",
   "execution_count": 9,
   "metadata": {},
   "outputs": [
    {
     "name": "stdout",
     "output_type": "stream",
     "text": [
      "There are a total of : 4,043,044 data\n",
      "There are 197,746 unique shipment Ids\n"
     ]
    }
   ],
   "source": [
    "print(f\"There are a total of : {len(df_unique_shipment):,} data\")\n",
    "print(f\"There are {len(df_unique_shipment['Shipment id'].unique()):,} unique shipment Ids\")"
   ]
  },
  {
   "cell_type": "code",
   "execution_count": 10,
   "metadata": {},
   "outputs": [
    {
     "name": "stdout",
     "output_type": "stream",
     "text": [
      "Changing Column 'Departed from Origin Port Milestone Local Time' to datetime.\n",
      "Changing Column 'Departed from Origin Port Milestone Time' to datetime.\n",
      "Changing Column 'Departed from Origin Port Milestone Received Time' to datetime.\n",
      "Changing Column 'Arrived at Destination Port Milestone Local Time' to datetime.\n",
      "Changing Column 'Arrived at Destination Port Milestone Time' to datetime.\n",
      "Changing Column 'Arrived at Destination Port Milestone Received Time' to datetime.\n",
      "Changing Column 'Est. Arrival at Destination Port Milestone Local Time' to datetime.\n",
      "Changing Column 'Est. Arrival at Destination Port Milestone Time' to datetime.\n",
      "Changing Column 'Est. Arrival at Destination Port Milestone Received Time' to datetime.\n"
     ]
    }
   ],
   "source": [
    "# Get the data column cleaned up. \n",
    "df_unique_shipment = column_to_datetime(df_unique_shipment)"
   ]
  },
  {
   "cell_type": "code",
   "execution_count": 18,
   "metadata": {},
   "outputs": [
    {
     "name": "stdout",
     "output_type": "stream",
     "text": [
      "Recieved Year: [2021.0, nan, 2020.0]\n",
      "Recieved Month : [1.0, nan, 3.0, 2.0, 12.0, 11.0, 10.0, 9.0, 8.0, 7.0, 6.0, 5.0, 4.0]\n",
      "\n",
      "\n",
      "The summary of 'Departed from Origin Port Milestone Received Time' - 'Departed from Origin Port Milestone Time'\n",
      "count    4,036,048.00\n",
      "mean             2.54\n",
      "std              9.61\n",
      "min            -21.00\n",
      "25%              0.00\n",
      "50%              0.00\n",
      "75%              2.00\n",
      "max            366.00\n",
      "dtype: object\n"
     ]
    }
   ],
   "source": [
    "milestone_recieved = \"Departed from Origin Port Milestone Received Time\"\n",
    "milestone_time = 'Departed from Origin Port Milestone Time'\n",
    "\n",
    "get_stats_recieved_vs_actual(df_unique_shipment, milestone_recieved, milestone_time)"
   ]
  },
  {
   "cell_type": "markdown",
   "metadata": {},
   "source": [
    "### Check Arrival Timing"
   ]
  },
  {
   "cell_type": "code",
   "execution_count": 20,
   "metadata": {},
   "outputs": [
    {
     "name": "stdout",
     "output_type": "stream",
     "text": [
      "Recieved Year: [2021.0, nan, 2020.0]\n",
      "Recieved Month : [1.0, nan, 3.0, 2.0, 12.0, 11.0, 10.0, 9.0, 8.0, 7.0, 6.0, 5.0, 4.0]\n",
      "\n",
      "\n",
      "The summary of 'Departed from Origin Port Milestone Received Time' - 'Departed from Origin Port Milestone Time'\n",
      "count    4,036,048.00\n",
      "mean             2.42\n",
      "std              7.03\n",
      "min            -21.00\n",
      "25%              0.00\n",
      "50%              0.00\n",
      "75%              2.00\n",
      "max            112.00\n",
      "dtype: object\n"
     ]
    }
   ],
   "source": [
    "milestone_recieved = \"Departed from Origin Port Milestone Received Time\"\n",
    "milestone_time = 'Departed from Origin Port Milestone Time'\n",
    "\n",
    "get_stats_recieved_vs_actual(correct_milestone_actual_timediff(\n",
    "    df_unique_shipment, milestone_recieved, milestone_time, 300, 366), \n",
    "                             milestone_recieved, milestone_time)"
   ]
  },
  {
   "cell_type": "code",
   "execution_count": 21,
   "metadata": {},
   "outputs": [
    {
     "name": "stdout",
     "output_type": "stream",
     "text": [
      "Recieved Year: [2021, 2020]\n",
      "Recieved Month : [2, 3, 1, 12, 11, 10, 9, 8, 7, 6, 5, 4]\n",
      "\n",
      "\n",
      "The summary of 'Arrived at Destination Port Milestone Received Time' - 'Arrived at Destination Port Milestone Time'\n",
      "count    4,043,044.00\n",
      "mean             0.75\n",
      "std              3.84\n",
      "min            -53.00\n",
      "25%              0.00\n",
      "50%              0.00\n",
      "75%              1.00\n",
      "max            122.00\n",
      "dtype: object\n"
     ]
    }
   ],
   "source": [
    "milestone_recieved = \"Arrived at Destination Port Milestone Received Time\"\n",
    "milestone_time = 'Arrived at Destination Port Milestone Time'\n",
    "\n",
    "df_arr = correct_milestone_actual_timediff(\n",
    "    df_unique_shipment, milestone_recieved, milestone_time, 300, 366)\n",
    "get_stats_recieved_vs_actual(df_arr, milestone_recieved, milestone_time)"
   ]
  },
  {
   "cell_type": "code",
   "execution_count": 22,
   "metadata": {},
   "outputs": [
    {
     "data": {
      "text/html": [
       "<div>\n",
       "<style scoped>\n",
       "    .dataframe tbody tr th:only-of-type {\n",
       "        vertical-align: middle;\n",
       "    }\n",
       "\n",
       "    .dataframe tbody tr th {\n",
       "        vertical-align: top;\n",
       "    }\n",
       "\n",
       "    .dataframe thead th {\n",
       "        text-align: right;\n",
       "    }\n",
       "</style>\n",
       "<table border=\"1\" class=\"dataframe\">\n",
       "  <thead>\n",
       "    <tr style=\"text-align: right;\">\n",
       "      <th></th>\n",
       "      <th>Shipment id</th>\n",
       "      <th>Arrived at Destination Port Milestone Received Time</th>\n",
       "      <th>Arrived at Destination Port Milestone Time</th>\n",
       "      <th>Departed from Origin Port Milestone Received Time</th>\n",
       "      <th>Shipment date</th>\n",
       "      <th>Delivered date</th>\n",
       "    </tr>\n",
       "  </thead>\n",
       "  <tbody>\n",
       "    <tr>\n",
       "      <th>229745</th>\n",
       "      <td>39294558</td>\n",
       "      <td>2020-11-10 03:32:25</td>\n",
       "      <td>2020-07-10 15:20:00</td>\n",
       "      <td>2020-08-26 01:00:15</td>\n",
       "      <td>2020-07-02 00:00:00</td>\n",
       "      <td>NaN</td>\n",
       "    </tr>\n",
       "    <tr>\n",
       "      <th>229747</th>\n",
       "      <td>39294558</td>\n",
       "      <td>2020-11-10 03:32:25</td>\n",
       "      <td>2020-07-10 15:20:00</td>\n",
       "      <td>2020-08-26 01:00:15</td>\n",
       "      <td>2020-07-02 00:00:00</td>\n",
       "      <td>NaN</td>\n",
       "    </tr>\n",
       "    <tr>\n",
       "      <th>229749</th>\n",
       "      <td>39294558</td>\n",
       "      <td>2020-11-10 03:32:25</td>\n",
       "      <td>2020-07-10 15:20:00</td>\n",
       "      <td>2020-08-26 02:45:53</td>\n",
       "      <td>2020-07-02 00:00:00</td>\n",
       "      <td>NaN</td>\n",
       "    </tr>\n",
       "    <tr>\n",
       "      <th>229751</th>\n",
       "      <td>39294558</td>\n",
       "      <td>2020-11-10 03:32:25</td>\n",
       "      <td>2020-07-10 15:20:00</td>\n",
       "      <td>2020-08-26 02:45:53</td>\n",
       "      <td>2020-07-02 00:00:00</td>\n",
       "      <td>NaN</td>\n",
       "    </tr>\n",
       "    <tr>\n",
       "      <th>230052</th>\n",
       "      <td>39294559</td>\n",
       "      <td>2020-11-10 03:32:25</td>\n",
       "      <td>2020-07-10 15:20:00</td>\n",
       "      <td>2020-08-26 02:45:53</td>\n",
       "      <td>2020-07-02 00:00:00</td>\n",
       "      <td>NaN</td>\n",
       "    </tr>\n",
       "    <tr>\n",
       "      <th>230057</th>\n",
       "      <td>39294559</td>\n",
       "      <td>2020-11-10 03:32:25</td>\n",
       "      <td>2020-07-10 15:20:00</td>\n",
       "      <td>2020-08-26 02:45:53</td>\n",
       "      <td>2020-07-02 00:00:00</td>\n",
       "      <td>NaN</td>\n",
       "    </tr>\n",
       "    <tr>\n",
       "      <th>230062</th>\n",
       "      <td>39294559</td>\n",
       "      <td>2020-11-10 03:32:25</td>\n",
       "      <td>2020-07-10 15:20:00</td>\n",
       "      <td>2020-08-26 01:00:15</td>\n",
       "      <td>2020-07-02 00:00:00</td>\n",
       "      <td>NaN</td>\n",
       "    </tr>\n",
       "    <tr>\n",
       "      <th>230067</th>\n",
       "      <td>39294559</td>\n",
       "      <td>2020-11-10 03:32:25</td>\n",
       "      <td>2020-07-10 15:20:00</td>\n",
       "      <td>2020-08-26 01:00:15</td>\n",
       "      <td>2020-07-02 00:00:00</td>\n",
       "      <td>NaN</td>\n",
       "    </tr>\n",
       "    <tr>\n",
       "      <th>230424</th>\n",
       "      <td>39294564</td>\n",
       "      <td>2020-11-10 03:32:25</td>\n",
       "      <td>2020-07-10 15:20:00</td>\n",
       "      <td>2020-08-26 01:00:15</td>\n",
       "      <td>2020-07-02 00:00:00</td>\n",
       "      <td>NaN</td>\n",
       "    </tr>\n",
       "    <tr>\n",
       "      <th>230429</th>\n",
       "      <td>39294564</td>\n",
       "      <td>2020-11-10 03:32:25</td>\n",
       "      <td>2020-07-10 15:20:00</td>\n",
       "      <td>2020-08-26 01:00:15</td>\n",
       "      <td>2020-07-02 00:00:00</td>\n",
       "      <td>NaN</td>\n",
       "    </tr>\n",
       "    <tr>\n",
       "      <th>230434</th>\n",
       "      <td>39294564</td>\n",
       "      <td>2020-11-10 03:32:25</td>\n",
       "      <td>2020-07-10 15:20:00</td>\n",
       "      <td>2020-08-26 02:45:53</td>\n",
       "      <td>2020-07-02 00:00:00</td>\n",
       "      <td>NaN</td>\n",
       "    </tr>\n",
       "    <tr>\n",
       "      <th>230439</th>\n",
       "      <td>39294564</td>\n",
       "      <td>2020-11-10 03:32:25</td>\n",
       "      <td>2020-07-10 15:20:00</td>\n",
       "      <td>2020-08-26 02:45:53</td>\n",
       "      <td>2020-07-02 00:00:00</td>\n",
       "      <td>NaN</td>\n",
       "    </tr>\n",
       "    <tr>\n",
       "      <th>232798</th>\n",
       "      <td>39294563</td>\n",
       "      <td>2020-11-10 03:32:25</td>\n",
       "      <td>2020-07-10 15:20:00</td>\n",
       "      <td>2020-08-26 02:45:53</td>\n",
       "      <td>2020-07-02 00:00:00</td>\n",
       "      <td>NaN</td>\n",
       "    </tr>\n",
       "    <tr>\n",
       "      <th>232801</th>\n",
       "      <td>39294563</td>\n",
       "      <td>2020-11-10 03:32:25</td>\n",
       "      <td>2020-07-10 15:20:00</td>\n",
       "      <td>2020-08-26 02:45:53</td>\n",
       "      <td>2020-07-02 00:00:00</td>\n",
       "      <td>NaN</td>\n",
       "    </tr>\n",
       "    <tr>\n",
       "      <th>232804</th>\n",
       "      <td>39294563</td>\n",
       "      <td>2020-11-10 03:32:25</td>\n",
       "      <td>2020-07-10 15:20:00</td>\n",
       "      <td>2020-08-26 01:00:15</td>\n",
       "      <td>2020-07-02 00:00:00</td>\n",
       "      <td>NaN</td>\n",
       "    </tr>\n",
       "    <tr>\n",
       "      <th>232807</th>\n",
       "      <td>39294563</td>\n",
       "      <td>2020-11-10 03:32:25</td>\n",
       "      <td>2020-07-10 15:20:00</td>\n",
       "      <td>2020-08-26 01:00:15</td>\n",
       "      <td>2020-07-02 00:00:00</td>\n",
       "      <td>NaN</td>\n",
       "    </tr>\n",
       "    <tr>\n",
       "      <th>236078</th>\n",
       "      <td>39294562</td>\n",
       "      <td>2020-11-10 03:32:25</td>\n",
       "      <td>2020-07-10 15:20:00</td>\n",
       "      <td>2020-08-26 02:45:53</td>\n",
       "      <td>2020-07-02 00:00:00</td>\n",
       "      <td>NaN</td>\n",
       "    </tr>\n",
       "    <tr>\n",
       "      <th>236080</th>\n",
       "      <td>39294562</td>\n",
       "      <td>2020-11-10 03:32:25</td>\n",
       "      <td>2020-07-10 15:20:00</td>\n",
       "      <td>2020-08-26 02:45:53</td>\n",
       "      <td>2020-07-02 00:00:00</td>\n",
       "      <td>NaN</td>\n",
       "    </tr>\n",
       "    <tr>\n",
       "      <th>236082</th>\n",
       "      <td>39294562</td>\n",
       "      <td>2020-11-10 03:32:25</td>\n",
       "      <td>2020-07-10 15:20:00</td>\n",
       "      <td>2020-08-26 01:00:15</td>\n",
       "      <td>2020-07-02 00:00:00</td>\n",
       "      <td>NaN</td>\n",
       "    </tr>\n",
       "    <tr>\n",
       "      <th>236084</th>\n",
       "      <td>39294562</td>\n",
       "      <td>2020-11-10 03:32:25</td>\n",
       "      <td>2020-07-10 15:20:00</td>\n",
       "      <td>2020-08-26 01:00:15</td>\n",
       "      <td>2020-07-02 00:00:00</td>\n",
       "      <td>NaN</td>\n",
       "    </tr>\n",
       "    <tr>\n",
       "      <th>237187</th>\n",
       "      <td>39294561</td>\n",
       "      <td>2020-11-10 03:22:52</td>\n",
       "      <td>2020-07-10 15:20:00</td>\n",
       "      <td>2020-08-26 01:00:15</td>\n",
       "      <td>2020-07-02 00:00:00</td>\n",
       "      <td>NaN</td>\n",
       "    </tr>\n",
       "    <tr>\n",
       "      <th>237189</th>\n",
       "      <td>39294561</td>\n",
       "      <td>2020-11-10 03:22:52</td>\n",
       "      <td>2020-07-10 15:20:00</td>\n",
       "      <td>2020-08-26 01:00:15</td>\n",
       "      <td>2020-07-02 00:00:00</td>\n",
       "      <td>NaN</td>\n",
       "    </tr>\n",
       "    <tr>\n",
       "      <th>237191</th>\n",
       "      <td>39294561</td>\n",
       "      <td>2020-11-10 03:22:52</td>\n",
       "      <td>2020-07-10 15:20:00</td>\n",
       "      <td>2020-08-26 02:45:53</td>\n",
       "      <td>2020-07-02 00:00:00</td>\n",
       "      <td>NaN</td>\n",
       "    </tr>\n",
       "    <tr>\n",
       "      <th>237193</th>\n",
       "      <td>39294561</td>\n",
       "      <td>2020-11-10 03:22:52</td>\n",
       "      <td>2020-07-10 15:20:00</td>\n",
       "      <td>2020-08-26 02:45:53</td>\n",
       "      <td>2020-07-02 00:00:00</td>\n",
       "      <td>NaN</td>\n",
       "    </tr>\n",
       "  </tbody>\n",
       "</table>\n",
       "</div>"
      ],
      "text/plain": [
       "        Shipment id Arrived at Destination Port Milestone Received Time  \\\n",
       "229745     39294558                                2020-11-10 03:32:25    \n",
       "229747     39294558                                2020-11-10 03:32:25    \n",
       "229749     39294558                                2020-11-10 03:32:25    \n",
       "229751     39294558                                2020-11-10 03:32:25    \n",
       "230052     39294559                                2020-11-10 03:32:25    \n",
       "230057     39294559                                2020-11-10 03:32:25    \n",
       "230062     39294559                                2020-11-10 03:32:25    \n",
       "230067     39294559                                2020-11-10 03:32:25    \n",
       "230424     39294564                                2020-11-10 03:32:25    \n",
       "230429     39294564                                2020-11-10 03:32:25    \n",
       "230434     39294564                                2020-11-10 03:32:25    \n",
       "230439     39294564                                2020-11-10 03:32:25    \n",
       "232798     39294563                                2020-11-10 03:32:25    \n",
       "232801     39294563                                2020-11-10 03:32:25    \n",
       "232804     39294563                                2020-11-10 03:32:25    \n",
       "232807     39294563                                2020-11-10 03:32:25    \n",
       "236078     39294562                                2020-11-10 03:32:25    \n",
       "236080     39294562                                2020-11-10 03:32:25    \n",
       "236082     39294562                                2020-11-10 03:32:25    \n",
       "236084     39294562                                2020-11-10 03:32:25    \n",
       "237187     39294561                                2020-11-10 03:22:52    \n",
       "237189     39294561                                2020-11-10 03:22:52    \n",
       "237191     39294561                                2020-11-10 03:22:52    \n",
       "237193     39294561                                2020-11-10 03:22:52    \n",
       "\n",
       "       Arrived at Destination Port Milestone Time  \\\n",
       "229745                        2020-07-10 15:20:00   \n",
       "229747                        2020-07-10 15:20:00   \n",
       "229749                        2020-07-10 15:20:00   \n",
       "229751                        2020-07-10 15:20:00   \n",
       "230052                        2020-07-10 15:20:00   \n",
       "230057                        2020-07-10 15:20:00   \n",
       "230062                        2020-07-10 15:20:00   \n",
       "230067                        2020-07-10 15:20:00   \n",
       "230424                        2020-07-10 15:20:00   \n",
       "230429                        2020-07-10 15:20:00   \n",
       "230434                        2020-07-10 15:20:00   \n",
       "230439                        2020-07-10 15:20:00   \n",
       "232798                        2020-07-10 15:20:00   \n",
       "232801                        2020-07-10 15:20:00   \n",
       "232804                        2020-07-10 15:20:00   \n",
       "232807                        2020-07-10 15:20:00   \n",
       "236078                        2020-07-10 15:20:00   \n",
       "236080                        2020-07-10 15:20:00   \n",
       "236082                        2020-07-10 15:20:00   \n",
       "236084                        2020-07-10 15:20:00   \n",
       "237187                        2020-07-10 15:20:00   \n",
       "237189                        2020-07-10 15:20:00   \n",
       "237191                        2020-07-10 15:20:00   \n",
       "237193                        2020-07-10 15:20:00   \n",
       "\n",
       "       Departed from Origin Port Milestone Received Time        Shipment date  \\\n",
       "229745                               2020-08-26 01:00:15  2020-07-02 00:00:00   \n",
       "229747                               2020-08-26 01:00:15  2020-07-02 00:00:00   \n",
       "229749                               2020-08-26 02:45:53  2020-07-02 00:00:00   \n",
       "229751                               2020-08-26 02:45:53  2020-07-02 00:00:00   \n",
       "230052                               2020-08-26 02:45:53  2020-07-02 00:00:00   \n",
       "230057                               2020-08-26 02:45:53  2020-07-02 00:00:00   \n",
       "230062                               2020-08-26 01:00:15  2020-07-02 00:00:00   \n",
       "230067                               2020-08-26 01:00:15  2020-07-02 00:00:00   \n",
       "230424                               2020-08-26 01:00:15  2020-07-02 00:00:00   \n",
       "230429                               2020-08-26 01:00:15  2020-07-02 00:00:00   \n",
       "230434                               2020-08-26 02:45:53  2020-07-02 00:00:00   \n",
       "230439                               2020-08-26 02:45:53  2020-07-02 00:00:00   \n",
       "232798                               2020-08-26 02:45:53  2020-07-02 00:00:00   \n",
       "232801                               2020-08-26 02:45:53  2020-07-02 00:00:00   \n",
       "232804                               2020-08-26 01:00:15  2020-07-02 00:00:00   \n",
       "232807                               2020-08-26 01:00:15  2020-07-02 00:00:00   \n",
       "236078                               2020-08-26 02:45:53  2020-07-02 00:00:00   \n",
       "236080                               2020-08-26 02:45:53  2020-07-02 00:00:00   \n",
       "236082                               2020-08-26 01:00:15  2020-07-02 00:00:00   \n",
       "236084                               2020-08-26 01:00:15  2020-07-02 00:00:00   \n",
       "237187                               2020-08-26 01:00:15  2020-07-02 00:00:00   \n",
       "237189                               2020-08-26 01:00:15  2020-07-02 00:00:00   \n",
       "237191                               2020-08-26 02:45:53  2020-07-02 00:00:00   \n",
       "237193                               2020-08-26 02:45:53  2020-07-02 00:00:00   \n",
       "\n",
       "       Delivered date  \n",
       "229745            NaN  \n",
       "229747            NaN  \n",
       "229749            NaN  \n",
       "229751            NaN  \n",
       "230052            NaN  \n",
       "230057            NaN  \n",
       "230062            NaN  \n",
       "230067            NaN  \n",
       "230424            NaN  \n",
       "230429            NaN  \n",
       "230434            NaN  \n",
       "230439            NaN  \n",
       "232798            NaN  \n",
       "232801            NaN  \n",
       "232804            NaN  \n",
       "232807            NaN  \n",
       "236078            NaN  \n",
       "236080            NaN  \n",
       "236082            NaN  \n",
       "236084            NaN  \n",
       "237187            NaN  \n",
       "237189            NaN  \n",
       "237191            NaN  \n",
       "237193            NaN  "
      ]
     },
     "execution_count": 22,
     "metadata": {},
     "output_type": "execute_result"
    }
   ],
   "source": [
    "df_arr[(df_arr[milestone_recieved] - df_arr[milestone_time]).dt.days > 120] \\\n",
    "    [[\"Shipment id\", milestone_recieved, milestone_time, \"Departed from Origin Port Milestone Received Time\", \"Shipment date\", \"Delivered date\"]]"
   ]
  },
  {
   "cell_type": "code",
   "execution_count": 23,
   "metadata": {},
   "outputs": [],
   "source": []
  },
  {
   "cell_type": "code",
   "execution_count": null,
   "metadata": {},
   "outputs": [],
   "source": []
  },
  {
   "cell_type": "code",
   "execution_count": null,
   "metadata": {},
   "outputs": [],
   "source": []
  }
 ],
 "metadata": {
  "kernelspec": {
   "display_name": "Python 3",
   "language": "python",
   "name": "python3"
  },
  "language_info": {
   "codemirror_mode": {
    "name": "ipython",
    "version": 3
   },
   "file_extension": ".py",
   "mimetype": "text/x-python",
   "name": "python",
   "nbconvert_exporter": "python",
   "pygments_lexer": "ipython3",
   "version": "3.6.6"
  }
 },
 "nbformat": 4,
 "nbformat_minor": 4
}
